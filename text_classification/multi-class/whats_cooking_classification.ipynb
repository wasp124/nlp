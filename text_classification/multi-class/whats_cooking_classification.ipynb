{
 "cells": [
  {
   "cell_type": "markdown",
   "id": "b0aeddd4-0e59-4a21-901a-65c354eee66d",
   "metadata": {},
   "source": [
    "## Text Classification and Prediction: What's Cooking\n",
    "S. Michael\n",
    "\n",
    "This notebook trains a classifier to predict the cuisine type on a test set containing the ingredients of a list of recipes.\n",
    "\n",
    "Data Source: https://www.kaggle.com/competitions/whats-cooking/data\n",
    "\n",
    "Steps:\n",
    "1. Imports nececessary libraries\n",
    "2. Downloads and reads Kaggles' 'whats-cooking.zip' data\n",
    "3. Explores the train and test data sets\n",
    "4. Preprocesses the data\n",
    "5. Transforms Data (one-hot encode & handle imbalanced data)\n",
    "6. TF-IDF for Feature Extraction & the LinearSVC Classifier\n",
    "8. Assess Model Performance on Validation Data\n",
    "10. Predicts the cusines of a list of recipes from the data set, test"
   ]
  },
  {
   "cell_type": "markdown",
   "id": "1a3bf6bf-cc90-4b45-9ce3-6ff8296c6e30",
   "metadata": {},
   "source": [
    "### Import Libraries"
   ]
  },
  {
   "cell_type": "code",
   "execution_count": 41,
   "id": "318f38f1",
   "metadata": {},
   "outputs": [],
   "source": [
    "#download & read data\n",
    "import os\n",
    "#!pip install kaggle\n",
    "from kaggle.api.kaggle_api_extended import KaggleApi\n",
    "from zipfile import ZipFile\n",
    "\n",
    "#explore data\n",
    "import pandas as pd\n",
    "import numpy as np\n",
    "import matplotlib.pyplot as plt\n",
    "\n",
    "#preprocess data\n",
    "import re\n",
    "from nltk import WordNetLemmatizer\n",
    "\n",
    "#transform data\n",
    "from sklearn.preprocessing import LabelEncoder\n",
    "import imblearn\n",
    "from imblearn import under_sampling\n",
    "from collections import Counter\n",
    "\n",
    "#tokenize & extract features\n",
    "from sklearn.feature_extraction.text import TfidfVectorizer\n",
    "from sklearn.pipeline import Pipeline\n",
    "#!pip install mlxtend\n",
    "from mlxtend.feature_selection import ColumnSelector\n",
    "\n",
    "#apply classifier\n",
    "from sklearn.model_selection import train_test_split\n",
    "from sklearn.svm import LinearSVC"
   ]
  },
  {
   "cell_type": "markdown",
   "id": "df0278b8",
   "metadata": {},
   "source": [
    "### Download Kaggle What's Cooking Data"
   ]
  },
  {
   "cell_type": "code",
   "execution_count": 2,
   "id": "0738907a",
   "metadata": {},
   "outputs": [
    {
     "name": "stdout",
     "output_type": "stream",
     "text": [
      "mkdir: /Users/sherilyn/.kaggle: File exists\n"
     ]
    }
   ],
   "source": [
    "!mkdir ~/.kaggle\n",
    "!echo '{\"username\":\"sherylmichael\",\"key\":\"c75f8d530e0af74d13b7420065cc474b\"}' > ~/.kaggle/kaggle.json\n",
    "!chmod 600 ~/.kaggle/kaggle.json"
   ]
  },
  {
   "cell_type": "code",
   "execution_count": 3,
   "id": "27b941b6",
   "metadata": {},
   "outputs": [
    {
     "name": "stdout",
     "output_type": "stream",
     "text": [
      "[test.json.zip, train.json.zip, sample_submission.csv.zip]\n"
     ]
    }
   ],
   "source": [
    "#download Kaggle data set\n",
    "iskaggle = os.environ.get('KAGGLE_KERNEL_RUN_TYPE', '')\n",
    "\n",
    "api = KaggleApi()\n",
    "api.authenticate()\n",
    "\n",
    "print(api.competition_list_files('whats-cooking'))\n",
    "api.competition_download_files('whats-cooking')"
   ]
  },
  {
   "cell_type": "code",
   "execution_count": 4,
   "id": "47953f0b",
   "metadata": {},
   "outputs": [],
   "source": [
    "# Read train & test data\n",
    "ZipFile('whats-cooking.zip').extractall('data')\n",
    "ZipFile('data/test.json.zip').extractall('data')\n",
    "ZipFile('data/train.json.zip').extractall('data')"
   ]
  },
  {
   "cell_type": "code",
   "execution_count": 5,
   "id": "c3f83bd7",
   "metadata": {},
   "outputs": [],
   "source": [
    "train = pd.read_json('data/train.json')\n",
    "test = pd.read_json('data/test.json')"
   ]
  },
  {
   "cell_type": "markdown",
   "id": "1fed2665",
   "metadata": {},
   "source": [
    "### Exploring Data"
   ]
  },
  {
   "cell_type": "code",
   "execution_count": 6,
   "id": "f5853017",
   "metadata": {},
   "outputs": [
    {
     "name": "stdout",
     "output_type": "stream",
     "text": [
      "train shape: (39774, 3)\n"
     ]
    },
    {
     "data": {
      "text/html": [
       "<div>\n",
       "<style scoped>\n",
       "    .dataframe tbody tr th:only-of-type {\n",
       "        vertical-align: middle;\n",
       "    }\n",
       "\n",
       "    .dataframe tbody tr th {\n",
       "        vertical-align: top;\n",
       "    }\n",
       "\n",
       "    .dataframe thead th {\n",
       "        text-align: right;\n",
       "    }\n",
       "</style>\n",
       "<table border=\"1\" class=\"dataframe\">\n",
       "  <thead>\n",
       "    <tr style=\"text-align: right;\">\n",
       "      <th></th>\n",
       "      <th>id</th>\n",
       "      <th>cuisine</th>\n",
       "      <th>ingredients</th>\n",
       "    </tr>\n",
       "  </thead>\n",
       "  <tbody>\n",
       "    <tr>\n",
       "      <th>0</th>\n",
       "      <td>10259</td>\n",
       "      <td>greek</td>\n",
       "      <td>[romaine lettuce, black olives, grape tomatoes...</td>\n",
       "    </tr>\n",
       "    <tr>\n",
       "      <th>1</th>\n",
       "      <td>25693</td>\n",
       "      <td>southern_us</td>\n",
       "      <td>[plain flour, ground pepper, salt, tomatoes, g...</td>\n",
       "    </tr>\n",
       "    <tr>\n",
       "      <th>2</th>\n",
       "      <td>20130</td>\n",
       "      <td>filipino</td>\n",
       "      <td>[eggs, pepper, salt, mayonaise, cooking oil, g...</td>\n",
       "    </tr>\n",
       "    <tr>\n",
       "      <th>3</th>\n",
       "      <td>22213</td>\n",
       "      <td>indian</td>\n",
       "      <td>[water, vegetable oil, wheat, salt]</td>\n",
       "    </tr>\n",
       "    <tr>\n",
       "      <th>4</th>\n",
       "      <td>13162</td>\n",
       "      <td>indian</td>\n",
       "      <td>[black pepper, shallots, cornflour, cayenne pe...</td>\n",
       "    </tr>\n",
       "  </tbody>\n",
       "</table>\n",
       "</div>"
      ],
      "text/plain": [
       "      id      cuisine                                        ingredients\n",
       "0  10259        greek  [romaine lettuce, black olives, grape tomatoes...\n",
       "1  25693  southern_us  [plain flour, ground pepper, salt, tomatoes, g...\n",
       "2  20130     filipino  [eggs, pepper, salt, mayonaise, cooking oil, g...\n",
       "3  22213       indian                [water, vegetable oil, wheat, salt]\n",
       "4  13162       indian  [black pepper, shallots, cornflour, cayenne pe..."
      ]
     },
     "execution_count": 6,
     "metadata": {},
     "output_type": "execute_result"
    }
   ],
   "source": [
    "print(\"train shape:\", train.shape)\n",
    "train.head()"
   ]
  },
  {
   "cell_type": "code",
   "execution_count": 7,
   "id": "b57c3ee1-d71b-472a-8ca8-35fcbc3f466d",
   "metadata": {},
   "outputs": [
    {
     "data": {
      "text/plain": [
       "id             0\n",
       "cuisine        0\n",
       "ingredients    0\n",
       "dtype: int64"
      ]
     },
     "execution_count": 7,
     "metadata": {},
     "output_type": "execute_result"
    }
   ],
   "source": [
    "# check for missing data train\n",
    "train.isnull().sum()"
   ]
  },
  {
   "cell_type": "code",
   "execution_count": 8,
   "id": "33efae82-fb65-43a7-b362-b2fb2605a408",
   "metadata": {},
   "outputs": [
    {
     "data": {
      "text/plain": [
       "cuisine\n",
       "italian         7838\n",
       "mexican         6438\n",
       "southern_us     4320\n",
       "indian          3003\n",
       "chinese         2673\n",
       "french          2646\n",
       "cajun_creole    1546\n",
       "thai            1539\n",
       "japanese        1423\n",
       "greek           1175\n",
       "spanish          989\n",
       "korean           830\n",
       "vietnamese       825\n",
       "moroccan         821\n",
       "british          804\n",
       "filipino         755\n",
       "irish            667\n",
       "jamaican         526\n",
       "russian          489\n",
       "brazilian        467\n",
       "Name: count, dtype: int64"
      ]
     },
     "execution_count": 8,
     "metadata": {},
     "output_type": "execute_result"
    }
   ],
   "source": [
    "# summarize distribution train\n",
    "train.cuisine.value_counts()"
   ]
  },
  {
   "cell_type": "code",
   "execution_count": 9,
   "id": "19eb3102-0d0e-4858-b480-edeba7768ca6",
   "metadata": {},
   "outputs": [
    {
     "data": {
      "image/png": "[encoded data removed]",
      "text/plain": [
       "<Figure size 1000x500 with 1 Axes>"
      ]
     },
     "metadata": {},
     "output_type": "display_data"
    }
   ],
   "source": [
    "#plot distribution train\n",
    "train.cuisine.value_counts().plot.barh(figsize = (10,5))\n",
    "plt.title('Counts by Cuisine Type: Raw Data')\n",
    "plt.xlabel('Count')\n",
    "plt.ylabel('Cuisine')\n",
    "plt.show()"
   ]
  },
  {
   "cell_type": "code",
   "execution_count": 10,
   "id": "dabb7ccd",
   "metadata": {},
   "outputs": [
    {
     "name": "stdout",
     "output_type": "stream",
     "text": [
      "test shape: (9944, 2)\n"
     ]
    },
    {
     "data": {
      "text/html": [
       "<div>\n",
       "<style scoped>\n",
       "    .dataframe tbody tr th:only-of-type {\n",
       "        vertical-align: middle;\n",
       "    }\n",
       "\n",
       "    .dataframe tbody tr th {\n",
       "        vertical-align: top;\n",
       "    }\n",
       "\n",
       "    .dataframe thead th {\n",
       "        text-align: right;\n",
       "    }\n",
       "</style>\n",
       "<table border=\"1\" class=\"dataframe\">\n",
       "  <thead>\n",
       "    <tr style=\"text-align: right;\">\n",
       "      <th></th>\n",
       "      <th>id</th>\n",
       "      <th>ingredients</th>\n",
       "    </tr>\n",
       "  </thead>\n",
       "  <tbody>\n",
       "    <tr>\n",
       "      <th>0</th>\n",
       "      <td>18009</td>\n",
       "      <td>[baking powder, eggs, all-purpose flour, raisi...</td>\n",
       "    </tr>\n",
       "    <tr>\n",
       "      <th>1</th>\n",
       "      <td>28583</td>\n",
       "      <td>[sugar, egg yolks, corn starch, cream of tarta...</td>\n",
       "    </tr>\n",
       "    <tr>\n",
       "      <th>2</th>\n",
       "      <td>41580</td>\n",
       "      <td>[sausage links, fennel bulb, fronds, olive oil...</td>\n",
       "    </tr>\n",
       "    <tr>\n",
       "      <th>3</th>\n",
       "      <td>29752</td>\n",
       "      <td>[meat cuts, file powder, smoked sausage, okra,...</td>\n",
       "    </tr>\n",
       "    <tr>\n",
       "      <th>4</th>\n",
       "      <td>35687</td>\n",
       "      <td>[ground black pepper, salt, sausage casings, l...</td>\n",
       "    </tr>\n",
       "  </tbody>\n",
       "</table>\n",
       "</div>"
      ],
      "text/plain": [
       "      id                                        ingredients\n",
       "0  18009  [baking powder, eggs, all-purpose flour, raisi...\n",
       "1  28583  [sugar, egg yolks, corn starch, cream of tarta...\n",
       "2  41580  [sausage links, fennel bulb, fronds, olive oil...\n",
       "3  29752  [meat cuts, file powder, smoked sausage, okra,...\n",
       "4  35687  [ground black pepper, salt, sausage casings, l..."
      ]
     },
     "execution_count": 10,
     "metadata": {},
     "output_type": "execute_result"
    }
   ],
   "source": [
    "print(\"test shape:\", test.shape)\n",
    "test.head()"
   ]
  },
  {
   "cell_type": "code",
   "execution_count": 11,
   "id": "92a051f0-d853-4314-8ad4-8762178dbe37",
   "metadata": {},
   "outputs": [
    {
     "data": {
      "text/plain": [
       "id             0\n",
       "ingredients    0\n",
       "dtype: int64"
      ]
     },
     "execution_count": 11,
     "metadata": {},
     "output_type": "execute_result"
    }
   ],
   "source": [
    "# check for missing data test\n",
    "test.isnull().sum()"
   ]
  },
  {
   "cell_type": "markdown",
   "id": "14cf3bbc-0413-45ce-8fb6-5ba6a8cdcd35",
   "metadata": {},
   "source": [
    "##### Summary of datasets: train, test"
   ]
  },
  {
   "cell_type": "markdown",
   "id": "12c79211",
   "metadata": {},
   "source": [
    "train is a labeled dataset with 3 columns (id, cuisiine, ingredients) and 39774 rows. train has no missing data.\n",
    "test is a labeled dataset with 2 columns (id, ingredients) and 9944 rows. test has no missing data.\n",
    "\n",
    "Exploration of train's class distribution suggests that the number of observations in each cuisine class is imbalanced.\n",
    "Machine learning algorithms are often biased towards the majority class, not taking the data distribution into consideration. Minority classes may be treated as outliers and ignored.\n",
    "\n",
    "The imbalanced data will be handled in the step, Transforming Data."
   ]
  },
  {
   "cell_type": "markdown",
   "id": "cee697bf-ab11-492d-829d-c4ee1786c188",
   "metadata": {},
   "source": [
    "### Preprocess Data\n",
    "\n",
    "To make it easier for the machine learning model to understand and process whats-cooking data, the data will be cleaned and standardized. \n",
    "Looking at the ingredients' list, it is a pretty clean data set. \n",
    "\n",
    "Thus, preprcessing data will include:\n",
    "Cleaning & preprocessing train & test (i.e. converting the ingredients list to a string, removing unnecessary characters and punctuation and lemmatization)"
   ]
  },
  {
   "cell_type": "markdown",
   "id": "855dd6c1-9023-4a76-baec-4c419a899ae5",
   "metadata": {},
   "source": [
    "##### Cleaning & Preprocessing train & test"
   ]
  },
  {
   "cell_type": "code",
   "execution_count": 12,
   "id": "2b3f519e-3c7a-4df5-90da-3bdd8dc39d66",
   "metadata": {},
   "outputs": [],
   "source": [
    "# cleaning ingredients_str (train & test)\n",
    "def lemmetize(ingredients):\n",
    "    regex = \"[^A-Za-z]\"\n",
    "    text = [WordNetLemmatizer().lemmatize(re.sub(regex,\"\",x).lower()) for x in ingredients]\n",
    "    text = ' '.join(text)\n",
    "    return text\n",
    "\n",
    "train['ingredients_lem'] = train['ingredients'].apply(lemmetize)\n",
    "test['ingredients_lem'] = test['ingredients'].apply(lemmetize)"
   ]
  },
  {
   "cell_type": "code",
   "execution_count": 13,
   "id": "c82e81b6-d29c-4a30-8770-9f976f247055",
   "metadata": {},
   "outputs": [
    {
     "data": {
      "text/html": [
       "<div>\n",
       "<style scoped>\n",
       "    .dataframe tbody tr th:only-of-type {\n",
       "        vertical-align: middle;\n",
       "    }\n",
       "\n",
       "    .dataframe tbody tr th {\n",
       "        vertical-align: top;\n",
       "    }\n",
       "\n",
       "    .dataframe thead th {\n",
       "        text-align: right;\n",
       "    }\n",
       "</style>\n",
       "<table border=\"1\" class=\"dataframe\">\n",
       "  <thead>\n",
       "    <tr style=\"text-align: right;\">\n",
       "      <th></th>\n",
       "      <th>id</th>\n",
       "      <th>cuisine</th>\n",
       "      <th>ingredients</th>\n",
       "      <th>ingredients_lem</th>\n",
       "    </tr>\n",
       "  </thead>\n",
       "  <tbody>\n",
       "    <tr>\n",
       "      <th>0</th>\n",
       "      <td>10259</td>\n",
       "      <td>greek</td>\n",
       "      <td>[romaine lettuce, black olives, grape tomatoes...</td>\n",
       "      <td>romainelettuce blackolives grapetomatoes garli...</td>\n",
       "    </tr>\n",
       "    <tr>\n",
       "      <th>1</th>\n",
       "      <td>25693</td>\n",
       "      <td>southern_us</td>\n",
       "      <td>[plain flour, ground pepper, salt, tomatoes, g...</td>\n",
       "      <td>plainflour groundpepper salt tomato groundblac...</td>\n",
       "    </tr>\n",
       "    <tr>\n",
       "      <th>2</th>\n",
       "      <td>20130</td>\n",
       "      <td>filipino</td>\n",
       "      <td>[eggs, pepper, salt, mayonaise, cooking oil, g...</td>\n",
       "      <td>egg pepper salt mayonaise cookingoil greenchil...</td>\n",
       "    </tr>\n",
       "    <tr>\n",
       "      <th>3</th>\n",
       "      <td>22213</td>\n",
       "      <td>indian</td>\n",
       "      <td>[water, vegetable oil, wheat, salt]</td>\n",
       "      <td>water vegetableoil wheat salt</td>\n",
       "    </tr>\n",
       "    <tr>\n",
       "      <th>4</th>\n",
       "      <td>13162</td>\n",
       "      <td>indian</td>\n",
       "      <td>[black pepper, shallots, cornflour, cayenne pe...</td>\n",
       "      <td>blackpepper shallot cornflour cayennepepper on...</td>\n",
       "    </tr>\n",
       "  </tbody>\n",
       "</table>\n",
       "</div>"
      ],
      "text/plain": [
       "      id      cuisine                                        ingredients  \\\n",
       "0  10259        greek  [romaine lettuce, black olives, grape tomatoes...   \n",
       "1  25693  southern_us  [plain flour, ground pepper, salt, tomatoes, g...   \n",
       "2  20130     filipino  [eggs, pepper, salt, mayonaise, cooking oil, g...   \n",
       "3  22213       indian                [water, vegetable oil, wheat, salt]   \n",
       "4  13162       indian  [black pepper, shallots, cornflour, cayenne pe...   \n",
       "\n",
       "                                     ingredients_lem  \n",
       "0  romainelettuce blackolives grapetomatoes garli...  \n",
       "1  plainflour groundpepper salt tomato groundblac...  \n",
       "2  egg pepper salt mayonaise cookingoil greenchil...  \n",
       "3                      water vegetableoil wheat salt  \n",
       "4  blackpepper shallot cornflour cayennepepper on...  "
      ]
     },
     "execution_count": 13,
     "metadata": {},
     "output_type": "execute_result"
    }
   ],
   "source": [
    "train.head()"
   ]
  },
  {
   "cell_type": "code",
   "execution_count": 14,
   "id": "77b1c021-9937-4353-8381-15a3ad774359",
   "metadata": {},
   "outputs": [
    {
     "data": {
      "text/html": [
       "<div>\n",
       "<style scoped>\n",
       "    .dataframe tbody tr th:only-of-type {\n",
       "        vertical-align: middle;\n",
       "    }\n",
       "\n",
       "    .dataframe tbody tr th {\n",
       "        vertical-align: top;\n",
       "    }\n",
       "\n",
       "    .dataframe thead th {\n",
       "        text-align: right;\n",
       "    }\n",
       "</style>\n",
       "<table border=\"1\" class=\"dataframe\">\n",
       "  <thead>\n",
       "    <tr style=\"text-align: right;\">\n",
       "      <th></th>\n",
       "      <th>id</th>\n",
       "      <th>cuisine</th>\n",
       "      <th>ingredients_lem</th>\n",
       "    </tr>\n",
       "  </thead>\n",
       "  <tbody>\n",
       "    <tr>\n",
       "      <th>0</th>\n",
       "      <td>10259</td>\n",
       "      <td>greek</td>\n",
       "      <td>romainelettuce blackolives grapetomatoes garli...</td>\n",
       "    </tr>\n",
       "    <tr>\n",
       "      <th>1</th>\n",
       "      <td>25693</td>\n",
       "      <td>southern_us</td>\n",
       "      <td>plainflour groundpepper salt tomato groundblac...</td>\n",
       "    </tr>\n",
       "    <tr>\n",
       "      <th>2</th>\n",
       "      <td>20130</td>\n",
       "      <td>filipino</td>\n",
       "      <td>egg pepper salt mayonaise cookingoil greenchil...</td>\n",
       "    </tr>\n",
       "    <tr>\n",
       "      <th>3</th>\n",
       "      <td>22213</td>\n",
       "      <td>indian</td>\n",
       "      <td>water vegetableoil wheat salt</td>\n",
       "    </tr>\n",
       "    <tr>\n",
       "      <th>4</th>\n",
       "      <td>13162</td>\n",
       "      <td>indian</td>\n",
       "      <td>blackpepper shallot cornflour cayennepepper on...</td>\n",
       "    </tr>\n",
       "  </tbody>\n",
       "</table>\n",
       "</div>"
      ],
      "text/plain": [
       "      id      cuisine                                    ingredients_lem\n",
       "0  10259        greek  romainelettuce blackolives grapetomatoes garli...\n",
       "1  25693  southern_us  plainflour groundpepper salt tomato groundblac...\n",
       "2  20130     filipino  egg pepper salt mayonaise cookingoil greenchil...\n",
       "3  22213       indian                      water vegetableoil wheat salt\n",
       "4  13162       indian  blackpepper shallot cornflour cayennepepper on..."
      ]
     },
     "execution_count": 14,
     "metadata": {},
     "output_type": "execute_result"
    }
   ],
   "source": [
    "train.drop('ingredients', axis=1, inplace=True) \n",
    "test.drop('ingredients', axis=1, inplace=True)\n",
    "train.head()"
   ]
  },
  {
   "cell_type": "code",
   "execution_count": 15,
   "id": "b3268c0e-a057-4d0c-9651-326c55fa31d5",
   "metadata": {},
   "outputs": [
    {
     "data": {
      "text/html": [
       "<div>\n",
       "<style scoped>\n",
       "    .dataframe tbody tr th:only-of-type {\n",
       "        vertical-align: middle;\n",
       "    }\n",
       "\n",
       "    .dataframe tbody tr th {\n",
       "        vertical-align: top;\n",
       "    }\n",
       "\n",
       "    .dataframe thead th {\n",
       "        text-align: right;\n",
       "    }\n",
       "</style>\n",
       "<table border=\"1\" class=\"dataframe\">\n",
       "  <thead>\n",
       "    <tr style=\"text-align: right;\">\n",
       "      <th></th>\n",
       "      <th>id</th>\n",
       "      <th>ingredients_lem</th>\n",
       "    </tr>\n",
       "  </thead>\n",
       "  <tbody>\n",
       "    <tr>\n",
       "      <th>0</th>\n",
       "      <td>18009</td>\n",
       "      <td>bakingpowder egg allpurposeflour raisin milk w...</td>\n",
       "    </tr>\n",
       "    <tr>\n",
       "      <th>1</th>\n",
       "      <td>28583</td>\n",
       "      <td>sugar eggyolks cornstarch creamoftartar banana...</td>\n",
       "    </tr>\n",
       "    <tr>\n",
       "      <th>2</th>\n",
       "      <td>41580</td>\n",
       "      <td>sausagelinks fennelbulb frond oliveoil cubanpe...</td>\n",
       "    </tr>\n",
       "    <tr>\n",
       "      <th>3</th>\n",
       "      <td>29752</td>\n",
       "      <td>meatcuts filepowder smokedsausage okra shrimp ...</td>\n",
       "    </tr>\n",
       "    <tr>\n",
       "      <th>4</th>\n",
       "      <td>35687</td>\n",
       "      <td>groundblackpepper salt sausagecasings leek par...</td>\n",
       "    </tr>\n",
       "  </tbody>\n",
       "</table>\n",
       "</div>"
      ],
      "text/plain": [
       "      id                                    ingredients_lem\n",
       "0  18009  bakingpowder egg allpurposeflour raisin milk w...\n",
       "1  28583  sugar eggyolks cornstarch creamoftartar banana...\n",
       "2  41580  sausagelinks fennelbulb frond oliveoil cubanpe...\n",
       "3  29752  meatcuts filepowder smokedsausage okra shrimp ...\n",
       "4  35687  groundblackpepper salt sausagecasings leek par..."
      ]
     },
     "execution_count": 15,
     "metadata": {},
     "output_type": "execute_result"
    }
   ],
   "source": [
    "test.head()"
   ]
  },
  {
   "cell_type": "markdown",
   "id": "052ce48f-6815-4ecd-a8ec-2179846cabd5",
   "metadata": {},
   "source": [
    "### Transform Data\n",
    "\n",
    "Data transofromation will include:\n",
    "1. One-hot encode cuisine data\n",
    "2. RandomUnderSampler\n",
    "\n",
    "Note: data set was too large for my laptop's capacity when applied Random Over-Sampling with imblearn to balance train's class distribution by increasing the data samples in the minority classes to match that of the majority class, 'italian.'"
   ]
  },
  {
   "cell_type": "code",
   "execution_count": 16,
   "id": "64db0b61-19ec-413b-93ca-d541ebeb5b15",
   "metadata": {},
   "outputs": [
    {
     "name": "stdout",
     "output_type": "stream",
     "text": [
      "LabelEncoder() mapping:  {'brazilian': 0, 'british': 1, 'cajun_creole': 2, 'chinese': 3, 'filipino': 4, 'french': 5, 'greek': 6, 'indian': 7, 'irish': 8, 'italian': 9, 'jamaican': 10, 'japanese': 11, 'korean': 12, 'mexican': 13, 'moroccan': 14, 'russian': 15, 'southern_us': 16, 'spanish': 17, 'thai': 18, 'vietnamese': 19}\n",
      "\n",
      "number of cuisine types:  20\n",
      "\n",
      "Original dataset shape Counter({9: 7838, 13: 6438, 16: 4320, 7: 3003, 3: 2673, 5: 2646, 2: 1546, 18: 1539, 11: 1423, 6: 1175, 17: 989, 12: 830, 19: 825, 14: 821, 1: 804, 4: 755, 8: 667, 10: 526, 15: 489, 0: 467})\n",
      "\n",
      "Undersample dataset shape Counter({0: 467, 1: 467, 2: 467, 3: 467, 4: 467, 5: 467, 6: 467, 7: 467, 8: 467, 9: 467, 10: 467, 11: 467, 12: 467, 13: 467, 14: 467, 15: 467, 16: 467, 17: 467, 18: 467, 19: 467})\n"
     ]
    }
   ],
   "source": [
    "#one-hot encode cuisine column\n",
    "le=LabelEncoder()\n",
    "le.fit(train.cuisine)\n",
    "#print('LabelEncoder() classes: ', le.classes_)\n",
    "print('LabelEncoder() mapping: ', dict(zip(le.classes_, le.transform(le.classes_))))\n",
    "print('\\nnumber of cuisine types: ', len(le.classes_))\n",
    "train['cuisine_id'] = le.transform(train.cuisine)\n",
    "# split into input and output elements\n",
    "X, y = train[['id', 'ingredients_lem']], train['cuisine_id']\n",
    "# handle imbalanced data\n",
    "#ros = over_sampling.RandomOverSampler(random_state=416)\n",
    "rus = under_sampling.RandomUnderSampler(random_state=416)\n",
    "#fit predictor and target variable\n",
    "#X_train_oversampled, y_train_oversampled = ros.fit_resample(X, y)\n",
    "X_train_undersampled, y_train_undersampled = rus.fit_resample(X, y)\n",
    "\n",
    "print('\\nOriginal dataset shape', Counter(y))\n",
    "print('\\nUndersample dataset shape', Counter(y_train_undersampled))"
   ]
  },
  {
   "cell_type": "markdown",
   "id": "f9908ebd-9afd-4037-b5b9-c51752e58bd7",
   "metadata": {},
   "source": [
    "While overfitting for oversampled data may be a concern, my laptop does not have the computational capacity to fit oversampled data.\n",
    "Because loss of information in the undersampled data is possible, the imbalanced data will be used for training."
   ]
  },
  {
   "cell_type": "markdown",
   "id": "41404405-28c0-4388-a5bc-33ff4483ccf1",
   "metadata": {},
   "source": [
    "### TF-IDF for Feature Extraction & the LinearSVC Classifier\n",
    "\n",
    "The text needs to be transformed into vectors so machine learning algorithms will be able to make predictions. \n",
    "\n",
    "Term Frequency – Inverse Document Frequency (TF_IDF) accounts for the importace of each word (ingredient) in the text (list of recipes).\n",
    "This notebook uses TF_IDF to perform both tokenization and feature extraction of X_train_balanced.ingredients_lem. The TF_IDF weight evaluates how important an ingredient is to each recipe in the collection. \n",
    "\n",
    "The TfidfVectorizer learns ingredient vocabulary and inverse document frequencies across the recipes in the feature set and then transforms (encodes) them into numerical features or vectors.\n",
    "\n",
    "The Linear Support Vector Classifier (LinearSVC) will be used to fit the imbalanced training data."
   ]
  },
  {
   "cell_type": "code",
   "execution_count": 25,
   "id": "9498b866-b7b9-4e5d-bc3c-00b57c8012ce",
   "metadata": {},
   "outputs": [
    {
     "name": "stdout",
     "output_type": "stream",
     "text": [
      "validation accuracy: \n"
     ]
    },
    {
     "data": {
      "text/plain": [
       "0.793463230672533"
      ]
     },
     "execution_count": 25,
     "metadata": {},
     "output_type": "execute_result"
    }
   ],
   "source": [
    "X_train, X_val, y_train, y_val= train_test_split(X, y, test_size=0.2, random_state=416)\n",
    "\n",
    "clf = Pipeline(steps=[\n",
    "('col_selector', ColumnSelector(cols=('ingredients_lem'),drop_axis=True)),\n",
    "('tfidf', TfidfVectorizer()),\n",
    "('linsvc', LinearSVC(dual='auto'))\n",
    "])\n",
    "\n",
    "# train & assess model performance on val data\n",
    "#imbalanced data\n",
    "clf.fit(X_train,y_train)\n",
    "\n",
    "print('validation accuracy: ')\n",
    "clf.score(X_val, y_val)"
   ]
  },
  {
   "cell_type": "markdown",
   "id": "0d5416f2-4dd7-4047-bed6-a2e4e622c0ab",
   "metadata": {},
   "source": [
    "### Assess Model Performance on Validation Data\n",
    "\n",
    "The Linear SVC model yielded an accuracy score of 79% on the validation data."
   ]
  },
  {
   "cell_type": "markdown",
   "id": "f6536fcd-e1b4-459c-b2be-215a128de27d",
   "metadata": {},
   "source": [
    "### Predict Test Data"
   ]
  },
  {
   "cell_type": "code",
   "execution_count": 37,
   "id": "2cff1c61-eade-49a5-ba66-be277f4c7fda",
   "metadata": {},
   "outputs": [
    {
     "name": "stdout",
     "output_type": "stream",
     "text": [
      "9944\n",
      "9944\n"
     ]
    }
   ],
   "source": [
    "y_pred = clf.predict(test)\n",
    "print(len(y_pred))\n",
    "print(len(test.id))"
   ]
  },
  {
   "cell_type": "code",
   "execution_count": 38,
   "id": "16ab8687-9015-4338-ab78-aa90a139ea7a",
   "metadata": {},
   "outputs": [],
   "source": [
    "d = pd.DataFrame({'id': test.id, 'label': y_pred}).to_csv(\"whats_cooking_submission.csv\", index=False)"
   ]
  },
  {
   "cell_type": "markdown",
   "id": "f37d479c-252c-4969-b510-8e00f30c390d",
   "metadata": {},
   "source": [
    "### Kaggle Submission Results\n",
    "\n",
    "\"error - after deadline"
   ]
  },
  {
   "cell_type": "markdown",
   "id": "0ff52252-de35-4365-9e34-a18047f6cda2",
   "metadata": {},
   "source": [
    "### Further Work:\n",
    "\n",
    "1. Explore Pipeline to include preprocessing and transformations (one-hot encode, label encoder)\n",
    "2. Explore feature extraction strategies"
   ]
  }
 ],
 "metadata": {
  "kernelspec": {
   "display_name": "Python 3 (ipykernel)",
   "language": "python",
   "name": "python3"
  },
  "language_info": {
   "codemirror_mode": {
    "name": "ipython",
    "version": 3
   },
   "file_extension": ".py",
   "mimetype": "text/x-python",
   "name": "python",
   "nbconvert_exporter": "python",
   "pygments_lexer": "ipython3",
   "version": "3.11.0"
  }
 },
 "nbformat": 4,
 "nbformat_minor": 5
}
