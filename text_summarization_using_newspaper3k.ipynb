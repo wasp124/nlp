{
 "cells": [
  {
   "cell_type": "code",
   "execution_count": null,
   "id": "ff4bbc1e",
   "metadata": {},
   "outputs": [],
   "source": [
    "Text Summarization of a BBC News live feed article using the Python library, newspaper3k"
   ]
  },
  {
   "cell_type": "code",
   "execution_count": 1,
   "id": "6b26f430",
   "metadata": {},
   "outputs": [],
   "source": [
    "##To download modules directly from jupyter notebook\n",
    "import sys \n",
    "#!{sys.executable} -m pip install newspaper3k\n",
    "\n",
    "import newspaper\n",
    "from newspaper import Article"
   ]
  },
  {
   "cell_type": "code",
   "execution_count": 2,
   "id": "35f0a819",
   "metadata": {},
   "outputs": [
    {
     "name": "stdout",
     "output_type": "stream",
     "text": [
      "https://www.bbc.co.uk/news/live/world-middle-east-67423274\n",
      "https://www.bbc.co.uk/news/world/middle_east\n",
      "https://www.bbc.co.uk/news/uk-scotland-scotland-politics-67437534\n",
      "https://www.bbc.co.uk/news/scotland/scotland_politics\n",
      "https://www.bbc.co.uk/news/business-67439675\n",
      "https://www.bbc.co.uk/news/business\n",
      "https://www.bbc.co.uk/news/world-europe-67427840\n",
      "https://www.bbc.co.uk/news/world/europe\n",
      "https://www.bbc.co.uk/news/uk-wales-67438040\n",
      "https://www.bbc.co.uk/news/wales\n",
      "https://www.bbc.co.uk/news/newsbeat-67437125\n",
      "https://www.bbc.co.uk/news/newsbeat\n",
      "https://www.bbc.co.uk/news/topics/c2vdnvdg6xxt\n",
      "https://www.bbc.co.uk/news/world-middle-east-67436154\n",
      "https://www.bbc.co.uk/news/world-middle-east-67347201\n",
      "https://www.bbc.co.uk/news/uk-politics-67438901\n",
      "https://www.bbc.co.uk/news/politics\n",
      "https://www.bbc.co.uk/news/uk\n",
      "https://www.bbc.co.uk/news/uk-england-derbyshire-67440814\n",
      "https://www.bbc.co.uk/news/england/derbyshire\n",
      "https://www.bbc.co.uk/news/uk-scotland-67441693\n",
      "https://www.bbc.co.uk/news/scotland\n",
      "https://www.bbc.co.uk/news/articles/clwpgpp15xeo\n",
      "https://www.bbc.co.uk/news/uk-northern-ireland-67431064\n",
      "https://www.bbc.co.uk/news/northern_ireland\n",
      "https://www.bbc.co.uk/news/uk-england-coventry-warwickshire-67332427\n",
      "https://www.bbc.co.uk/news/england/coventry_and_warwickshire\n",
      "https://www.bbc.co.uk/news/entertainment_and_arts\n",
      "https://www.bbc.co.uk/news/articles/cd1pd66y9k6o\n",
      "https://www.bbc.co.uk/news/entertainment-arts-67430717\n",
      "https://www.bbc.co.uk/news/entertainment-arts-67413099\n",
      "https://www.bbc.co.uk/cbbc/quizzes/bp-doctor-who-ultimate-whovian-quiz\n",
      "https://www.bbc.co.uk/news/entertainment-arts-67415437\n",
      "https://www.bbc.co.uk/mediacentre/2023/the-kemps-all-gold-cast\n",
      "https://www.bbc.co.uk/bbcthree/article/2b84892e-2f86-4738-aaef-130a6737fe57\n",
      "https://www.bbc.co.uk/food/articles/what_to_eat_for_high_cholesterol\n",
      "https://www.bbc.co.uk/programmes/articles/5fRhSpsb8zRng8xlnBzQ5QN/why-is-there-no-olympic-decathlon-for-women\n",
      "https://www.bbc.co.uk/news/uk-england-oxfordshire-67421710\n",
      "https://www.bbc.co.uk/news/england/oxford\n",
      "https://www.bbc.co.uk/news/uk-england-beds-bucks-herts-67407339\n",
      "https://www.bbc.co.uk/news/england/beds_bucks_and_herts\n",
      "https://www.bbc.co.uk/news/entertainment-arts-67415387\n",
      "https://www.bbc.co.uk/news/uk-67419586\n",
      "https://www.bbc.co.uk/news/topics/cljev4jz3pjt\n",
      "https://www.bbc.co.uk/news/business-67431758\n",
      "https://www.bbc.co.uk/programmes/articles/5fGSkZ52YtnmTzr65dx8x27/what-would-you-ask-a-primal-survival-expert\n",
      "https://www.bbc.co.uk/programmes/articles/2LGhdhYLsbKKbTfg3Gv0C5r/tips-for-staying-well-this-winter\n",
      "https://www.bbc.co.uk/news/uk-67439593\n",
      "https://www.bbc.co.uk/news/uk-67418001\n",
      "https://www.bbc.co.uk/news/world-us-canada-67406777\n",
      "https://www.bbc.co.uk/news/world/us_and_canada\n",
      "https://www.bbc.co.uk/news/uk-wales-politics-67429982\n",
      "https://www.bbc.co.uk/news/wales/wales_politics\n",
      "https://www.bbc.co.uk/news/uk-wales-67431789\n",
      "https://www.bbc.co.uk/news/entertainment-arts-67410716\n",
      "https://www.bbc.co.uk/news/help-41670342\n",
      "https://www.bbc.co.uk/news/uk-politics-67440095\n",
      "https://www.bbc.co.uk/news/uk-wales-67415941\n",
      "https://www.bbc.co.uk/news/articles/c89qj2ydjg1o\n",
      "https://www.bbc.co.uk/news/uk-wales-67442777\n",
      "https://www.bbc.co.uk/iplayer/episode/p006cxm4/the-fast-show-series-1-episode-1?at_mid=ii9Pz5xVnV&at_campaign=The_Fast_Show&at_medium=display_ad&at_campaign_type=owned&at_link_origin=frontpage_billboard&at_product=iplayer&at_brand=b00fn9t2&at_ptr_name=bbc&at_ptr_type=media&at_format=image&at_objective=consumption&at_link_title=The_Fast_Show&at_bbc_team=BBC\n",
      "https://www.bbc.co.uk/iplayer/episode/m001s8nh/louis-theroux-interviews-series-2-1-anthony-joshua?at_mid=E4EZB9Lkzg&at_campaign=Louis_Theroux_Interviews_Anthony_Joshua&at_medium=display_ad&at_campaign_type=owned&at_link_origin=frontpage_billboard&at_product=iplayer&at_brand=m001djpt&at_ptr_name=bbc&at_ptr_type=media&at_format=image&at_objective=consumption&at_link_title=Louis_Theroux_Interviews_Anthony_Joshua&at_bbc_team=BBC\n",
      "https://www.bbc.co.uk/iplayer/episode/p0fjnmbz/the-diary-of-a-ceo-series-1-5-gary-neville?at_mid=VDiN7bnRjk&at_campaign=TheDiaryOfACEOGaryNeville&at_medium=display_ad&at_campaign_type=owned&at_link_origin=frontpage_billboard&at_product=iplayer&at_ptr_name=bbc&at_ptr_type=media&at_format=image&at_objective=consumption&at_link_title=TheDiaryOfACEOGaryNeville&at_bbc_team=BBC\n",
      "https://www.bbc.co.uk/food/techniques/testing_to_see_if_a_cake_is_cooked\n",
      "https://www.bbc.co.uk/news/uk-wales-67439420\n",
      "https://www.bbc.co.uk/news/uk-wales-67442792\n",
      "https://www.bbc.co.uk/news/uk-wales-67440295\n",
      "https://www.bbc.co.uk/news/uk-wales-67378244\n",
      "https://www.bbc.co.uk/news/uk-wales-67397809\n",
      "https://www.bbc.co.uk/news/uk-wales-67363064\n",
      "https://www.bbc.co.uk/news/uk-wales-66922992\n",
      "https://www.bbc.co.uk/news/uk-scotland-tayside-central-67437714\n",
      "https://www.bbc.co.uk/news/scotland/tayside_and_central\n",
      "https://www.bbc.co.uk/news/uk-scotland-edinburgh-east-fife-67437571\n",
      "https://www.bbc.co.uk/news/scotland/edinburgh_east_and_fife\n",
      "https://www.bbc.co.uk/news/uk-scotland-highlands-islands-67437740\n",
      "https://www.bbc.co.uk/news/scotland/highlands_and_islands\n",
      "https://www.bbc.co.uk/news/uk-scotland-tayside-central-67437715\n",
      "https://www.bbc.co.uk/news/uk-scotland-67439068\n",
      "https://www.bbc.co.uk/programmes/articles/1gFt3zryCY2mgMHYYLldDX0/how-chocolate-biscuits-and-drama-classes-helped-one-man-leave-prison-behind\n",
      "https://www.bbc.co.uk/news/articles/cgxpyx1g93ko\n",
      "https://www.bbc.co.uk/news/articles/c4n078gekz9o\n",
      "https://www.bbc.co.uk/programmes/articles/3KYX0Xmklmtq4NkRwmnJJ1W/speakgaelic-the-fun-way-to-learn-scottish-gaelic\n",
      "https://www.bbc.co.uk/iplayer/episodes/m0010f16/scotlands-sacred-islands-with-ben-fogle\n",
      "https://www.bbc.co.uk/news/articles/crgplgre2rvo\n",
      "https://www.bbc.com/news/live/world-middle-east-67423274\n",
      "https://www.bbc.com/news/world/middle_east\n",
      "https://www.bbc.com/news/world-middle-east-67347201\n",
      "https://www.bbc.com/news/world-us-canada-67437835\n",
      "https://www.bbc.com/news/world/us_and_canada\n",
      "https://www.bbc.com/future/article/20231115-how-did-time-begin-and-how-will-it-end\n",
      "https://www.bbc.com/culture/article/20231115-the-crown-season-6-review-a-clumsy-predictable-end-to-the-royal-family-drama\n",
      "https://www.bbc.com/news/world-us-canada-67445706\n",
      "https://www.bbc.com/news/world-us-canada-67445463\n",
      "https://www.bbc.com/news/world-middle-east-67436154\n",
      "https://www.bbc.com/future/article/20231113-climate-change-why-photos-of-polar-bears-dont-work\n",
      "https://www.bbc.com/future/article/20231109-how-africas-first-heat-officer-is-protecting-women-in-sierra-leone\n",
      "https://www.bbc.com/future/article/20231106-the-big-bubble-curtains-protecting-porpoises-from-wind-farm-noise\n",
      "https://www.bbc.com/worklife/article/20231115-after-weworks-bankruptcy-what-is-the-future-of-coworking\n",
      "https://www.bbc.com/future/article/20231115-how-i-made-my-pets-more-environmentally-friendly\n",
      "https://www.bbc.com/culture/article/20231114-radicals-and-rogues-these-subversive-1910s-women-made-new-york-cool-but-were-written-out-of-history\n",
      "https://www.bbc.com/travel/article/20231115-discover-the-eight-best-photo-ops-in-new-york-city\n",
      "https://www.bbc.com/news/world-us-canada-67440337\n",
      "https://www.bbc.com/news/newsbeat-67437125\n",
      "https://www.bbc.com/news/newsbeat\n",
      "https://www.bbc.com/news/world-asia-india-67435642\n",
      "https://www.bbc.com/news/world/asia/india\n",
      "https://www.bbc.com/news/business-67436369\n",
      "https://www.bbc.com/news/business-67443156\n",
      "https://www.bbc.com/news/business-67432080\n",
      "https://www.bbc.com/news/business-67435329\n",
      "https://www.bbc.com/news/business-67436228\n",
      "https://www.bbc.com/reel/video/p0gqnp2h/a-day-in-the-life-of-the-black-mambas\n",
      "https://www.bbc.com/reel/video/p0gsfwky/what-s-the-best-way-to-become-really-strong-\n",
      "https://www.bbc.com/reel/video/p0gqbk09/napoleon-the-truth-about-small-man-syndrome-\n",
      "https://www.bbc.co.uk/news/topics/cj8k8ngevpgt\n",
      "https://www.bbc.com/news/business\n",
      "https://www.bbc.co.uk/news/av/business-67420863\n",
      "https://www.bbc.com/news/world-europe-67445280\n",
      "https://www.bbc.com/news/world/europe\n",
      "https://www.bbc.com/news/world-middle-east-67442287\n",
      "https://www.bbc.com/news/world-europe-67438148\n",
      "https://www.bbc.com/news/uk-england-london-67410664\n",
      "https://www.bbc.com/news/england/london\n",
      "https://www.bbc.com/news/world-us-canada-67432662\n",
      "https://www.bbc.com/news/world-middle-east-67431820\n",
      "https://www.bbc.com/news/10462520\n",
      "https://www.bbc.com/news/video_and_audio\n",
      "https://www.bbc.com/news/entertainment-arts-67430193\n",
      "https://www.bbc.com/news/entertainment_and_arts\n",
      "https://www.bbc.com/news/world-us-canada-67434936\n",
      "https://www.bbc.com/news/world-us-canada-67421998\n",
      "https://www.bbc.com/news/entertainment-arts-67415437\n",
      "https://www.bbc.co.uk/news/technology-67144713\n",
      "http://www.bbc.com/news/business/\n",
      "https://www.bbc.com/news/world-africa-67426065\n",
      "https://www.bbc.com/news/world/africa\n",
      "https://www.bbc.com/news/health-67435266\n",
      "https://www.bbc.com/news/health\n",
      "https://www.bbc.com/news/in-pictures-67378797\n",
      "https://www.bbc.com/news/in_pictures\n",
      "https://www.bbc.co.uk/news/articles/c4n9erzrg93o\n",
      "http://www.bbc.com/news/technology/\n",
      "http://www.bbc.com/news/entertainment_and_arts/\n",
      "https://www.bbc.com/news/world-us-canada-67433961\n",
      "https://www.bbc.com/news/world-europe-67399766\n",
      "https://www.bbc.com/news/world-asia-india-67142530\n",
      "https://www.bbc.com/news/world-us-canada-67432038\n",
      "https://www.bbc.com/news/world-asia-china-67423040\n",
      "https://www.bbc.com/news/world-asia-india-67355267\n",
      "https://www.bbc.com/news/world-us-canada-67418938\n",
      "https://www.bbc.com/news/world-us-canada-67422336\n",
      "https://www.bbc.com/news/business-11428889\n",
      "https://www.bbc.com/news/business-67161076\n",
      "https://www.bbc.co.uk/news/topics/cgmlnmr3yjzt\n",
      "https://www.bbc.com/news/business-67306635\n",
      "https://www.bbc.com/news/world-africa-67342719\n",
      "https://www.bbc.com/news/uk-politics-67344490\n",
      "https://www.bbc.com/news/politics\n",
      "https://www.bbc.com/news/in-pictures-67298061\n",
      "https://www.bbc.com/news/uk-england-london-67205468\n",
      "https://www.bbc.com/news/in-pictures-67193453\n"
     ]
    }
   ],
   "source": [
    "#load live news feed and list articles\n",
    "bbc_news= newspaper.build('https://www.bbc.co.uk')\n",
    "for article in bbc_news.articles:\n",
    "     print(article.url)"
   ]
  },
  {
   "cell_type": "code",
   "execution_count": 3,
   "id": "c384d5f7",
   "metadata": {},
   "outputs": [],
   "source": [
    "#select and download one article from the live news feed. \n",
    "bbc_article = bbc_news.articles[87]\n",
    "bbc_article.download()"
   ]
  },
  {
   "cell_type": "code",
   "execution_count": 4,
   "id": "7a11f72c",
   "metadata": {},
   "outputs": [
    {
     "name": "stdout",
     "output_type": "stream",
     "text": [
      "How the dead are counted in Gaza\n"
     ]
    }
   ],
   "source": [
    "#parse the article and print the title\n",
    "bbc_article.parse()\n",
    "print(bbc_article.title)"
   ]
  },
  {
   "cell_type": "code",
   "execution_count": 5,
   "id": "b3807f4c",
   "metadata": {},
   "outputs": [
    {
     "name": "stdout",
     "output_type": "stream",
     "text": [
      "Health ministry officials say the death figures are recorded by medical professionals before being passed on to them and the figures only include people recorded dead in hospital. The figures do not distinguish between military and civilian deaths. And, because they do not take into account those who died at the scene of blasts whose bodies have not been found, or buried immediately, they may be an undercount, Gazan officials say.\n"
     ]
    }
   ],
   "source": [
    "#print the original or raw text\n",
    "print(bbc_article.text)"
   ]
  },
  {
   "cell_type": "code",
   "execution_count": 6,
   "id": "9049406f",
   "metadata": {},
   "outputs": [
    {
     "name": "stderr",
     "output_type": "stream",
     "text": [
      "/Users/sheri/Applications/anaconda3/lib/python3.9/site-packages/scipy/__init__.py:155: UserWarning: A NumPy version >=1.18.5 and <1.25.0 is required for this version of SciPy (detected version 1.26.0\n",
      "  warnings.warn(f\"A NumPy version >={np_minversion} and <{np_maxversion}\"\n"
     ]
    },
    {
     "name": "stdout",
     "output_type": "stream",
     "text": [
      "['ministry', 'gaza', 'say', 'scene', 'passed', 'dead', 'military', 'counted', 'officials', 'recorded', 'undercount', 'figures', 'professionals']\n"
     ]
    }
   ],
   "source": [
    "bbc_article.nlp()\n",
    "print(bbc_article.keywords)"
   ]
  },
  {
   "cell_type": "code",
   "execution_count": 7,
   "id": "ac73d9a5",
   "metadata": {},
   "outputs": [
    {
     "name": "stdout",
     "output_type": "stream",
     "text": [
      "Health ministry officials say the death figures are recorded by medical professionals before being passed on to them and the figures only include people recorded dead in hospital.\n",
      "The figures do not distinguish between military and civilian deaths.\n",
      "And, because they do not take into account those who died at the scene of blasts whose bodies have not been found, or buried immediately, they may be an undercount, Gazan officials say.\n"
     ]
    }
   ],
   "source": [
    "#print the automated summarized article \n",
    "print(bbc_article.summary)"
   ]
  }
 ],
 "metadata": {
  "kernelspec": {
   "display_name": "Python 3 (ipykernel)",
   "language": "python",
   "name": "python3"
  },
  "language_info": {
   "codemirror_mode": {
    "name": "ipython",
    "version": 3
   },
   "file_extension": ".py",
   "mimetype": "text/x-python",
   "name": "python",
   "nbconvert_exporter": "python",
   "pygments_lexer": "ipython3",
   "version": "3.9.13"
  }
 },
 "nbformat": 4,
 "nbformat_minor": 5
}
